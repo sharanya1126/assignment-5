{
  "nbformat": 4,
  "nbformat_minor": 0,
  "metadata": {
    "colab": {
      "name": "assignment5-random number between 1 and 1000",
      "provenance": []
    },
    "kernelspec": {
      "name": "python3",
      "display_name": "Python 3"
    }
  },
  "cells": [
    {
      "cell_type": "code",
      "metadata": {
        "id": "4N2p9YYPlkZz",
        "colab_type": "code",
        "colab": {
          "base_uri": "https://localhost:8080/",
          "height": 34
        },
        "outputId": "31e7c568-5450-4010-fe61-fb0dc933358b"
      },
      "source": [
        "import random\n",
        "print(random.randrange(1,1000))"
      ],
      "execution_count": 1,
      "outputs": [
        {
          "output_type": "stream",
          "text": [
            "294\n"
          ],
          "name": "stdout"
        }
      ]
    }
  ]
}