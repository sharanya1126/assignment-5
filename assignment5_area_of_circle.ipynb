{
  "nbformat": 4,
  "nbformat_minor": 0,
  "metadata": {
    "colab": {
      "name": "assignment5-area of circle",
      "provenance": []
    },
    "kernelspec": {
      "name": "python3",
      "display_name": "Python 3"
    }
  },
  "cells": [
    {
      "cell_type": "code",
      "metadata": {
        "id": "zupKQFGPfpcQ",
        "colab_type": "code",
        "colab": {
          "base_uri": "https://localhost:8080/",
          "height": 50
        },
        "outputId": "f4e949ce-6133-4196-cc6e-1c99f9b31be3"
      },
      "source": [
        "import math\n",
        "\n",
        "r=float(input(\"enter the radius of circle:\"))\n",
        "area=r*r*math.pi\n",
        "print(\"area of circle is: %.2f\" %area)"
      ],
      "execution_count": 3,
      "outputs": [
        {
          "output_type": "stream",
          "text": [
            "enter the radius of circle:2\n",
            "area of circle is: 12.57\n"
          ],
          "name": "stdout"
        }
      ]
    }
  ]
}