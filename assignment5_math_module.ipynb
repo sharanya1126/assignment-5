{
  "nbformat": 4,
  "nbformat_minor": 0,
  "metadata": {
    "colab": {
      "name": "assignment5-math module",
      "provenance": []
    },
    "kernelspec": {
      "name": "python3",
      "display_name": "Python 3"
    }
  },
  "cells": [
    {
      "cell_type": "code",
      "metadata": {
        "id": "Noa3Vl2Rmmgf",
        "colab_type": "code",
        "colab": {
          "base_uri": "https://localhost:8080/",
          "height": 134
        },
        "outputId": "fb842b0f-971a-47a4-8f0d-23e11cea8adc"
      },
      "source": [
        "import math\n",
        "a=math.sin(60)\n",
        "print(a)\n",
        "b=math.cos(3.142)\n",
        "print(b)\n",
        "c=math.tan(90)\n",
        "print(c)\n",
        "d=math.pow(5,8)\n",
        "print(d)\n",
        "e=math.sqrt(400)\n",
        "print(e)\n",
        "f=math.ceil(23.56)\n",
        "print(f)\n",
        "g=math.floor(23.56)\n",
        "print(g)\n"
      ],
      "execution_count": 7,
      "outputs": [
        {
          "output_type": "stream",
          "text": [
            "-0.3048106211022167\n",
            "-0.9999999170344522\n",
            "-1.995200412208242\n",
            "390625.0\n",
            "20.0\n",
            "24\n",
            "23\n"
          ],
          "name": "stdout"
        }
      ]
    }
  ]
}