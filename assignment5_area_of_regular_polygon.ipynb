{
  "nbformat": 4,
  "nbformat_minor": 0,
  "metadata": {
    "colab": {
      "name": "assignment5-area of regular polygon",
      "provenance": []
    },
    "kernelspec": {
      "name": "python3",
      "display_name": "Python 3"
    }
  },
  "cells": [
    {
      "cell_type": "code",
      "metadata": {
        "id": "9AT1hOkFkbJz",
        "colab_type": "code",
        "colab": {
          "base_uri": "https://localhost:8080/",
          "height": 67
        },
        "outputId": "8cf0c7a2-334d-4ecc-8f0c-167ef8dba2d1"
      },
      "source": [
        "from math import tan,pi\n",
        "n_sides=int(input(\"input the number of sides:\"))\n",
        "s_length=float(input(\"input the length of a side:\"))\n",
        "p_area=n_sides*(s_length**2)/(4*tan(pi/n_sides))\n",
        "print(\"the area of the polygon is:\",p_area)"
      ],
      "execution_count": 2,
      "outputs": [
        {
          "output_type": "stream",
          "text": [
            "input the number of sides:5\n",
            "input the length of a side:3\n",
            "the area of the polygon is: 15.484296605300703\n"
          ],
          "name": "stdout"
        }
      ]
    }
  ]
}